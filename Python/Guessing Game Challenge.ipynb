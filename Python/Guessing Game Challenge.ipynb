{
 "cells": [
  {
   "cell_type": "code",
   "execution_count": 1,
   "metadata": {},
   "outputs": [
    {
     "name": "stdout",
     "output_type": "stream",
     "text": [
      "What is ur guess?50\n",
      "WARM!\n",
      "What is ur next guess?51\n",
      "COLDER!\n",
      "What is ur next guess?49\n",
      "WARMER!\n",
      "What is ur next guess?45\n",
      "COLDER!\n",
      "What is ur next guess?46\n",
      "WARMER!\n",
      "What is ur next guess?47\n",
      "Ur Guess is Correct in 6 guesses\n"
     ]
    }
   ],
   "source": [
    "from random import randint\n",
    "randnum=randint(1,100)\n",
    "choice=0\n",
    "print(\"WELCOME TO GUESS ME!\")\n",
    "print(\"I'm thinking of a number between 1 and 100\")\n",
    "print(\"If your guess is more than 10 away from my number, I'll tell you you're COLD\")\n",
    "print(\"If your guess is within 10 of my number, I'll tell you you're WARM\")\n",
    "print(\"If your guess is farther than your most recent guess, I'll say you're getting COLDER\")\n",
    "print(\"If your guess is closer than your most recent guess, I'll say you're getting WARMER\")\n",
    "print(\"LET'S PLAY!\")\n",
    "x=int(input('What is ur guess?'))\n",
    "diff=x-randnum\n",
    "if(diff==0):\n",
    "    print('Ur Guess is correct in the first chance')\n",
    "    choice=1\n",
    "elif(x<1 or x>100):\n",
    "    print('Ur Guess is Out of Bounds')\n",
    "    choice=2\n",
    "elif(0<abs(diff)<=10):\n",
    "    print('WARM!')\n",
    "else:\n",
    "    print('COLD!')\n",
    "if(choice==0):\n",
    "    choice=1\n",
    "    while(True):\n",
    "        x=int(input('What is ur next guess?'))\n",
    "        diff1=x-randnum\n",
    "        choice+=1\n",
    "        if(diff1==0):\n",
    "            print(f'Ur Guess is Correct in {choice} guesses')\n",
    "            break\n",
    "        elif(diff1<0):\n",
    "            if((diff<0 and diff1>diff) or (diff>0 and abs(diff1)<diff)):\n",
    "                print('WARMER!')\n",
    "            else:\n",
    "                print('COLDER!')\n",
    "        else:\n",
    "            if((diff<0 and diff1<abs(diff)) or (diff>0 and diff1<diff)):\n",
    "                print('WARMER!')\n",
    "            else:\n",
    "                print('COLDER!')\n",
    "        diff=diff1"
   ]
  },
  {
   "cell_type": "code",
   "execution_count": null,
   "metadata": {},
   "outputs": [],
   "source": []
  }
 ],
 "metadata": {
  "kernelspec": {
   "display_name": "Python 3",
   "language": "python",
   "name": "python3"
  },
  "language_info": {
   "codemirror_mode": {
    "name": "ipython",
    "version": 3
   },
   "file_extension": ".py",
   "mimetype": "text/x-python",
   "name": "python",
   "nbconvert_exporter": "python",
   "pygments_lexer": "ipython3",
   "version": "3.7.4"
  }
 },
 "nbformat": 4,
 "nbformat_minor": 2
}
