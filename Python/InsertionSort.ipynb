{
 "cells": [
  {
   "cell_type": "code",
   "execution_count": null,
   "metadata": {},
   "outputs": [],
   "source": [
    "Insertion Sort(Non Decreasing order)"
   ]
  },
  {
   "cell_type": "code",
   "execution_count": 3,
   "metadata": {},
   "outputs": [
    {
     "name": "stdout",
     "output_type": "stream",
     "text": [
      "Enter number of numbers to be entered5\n",
      "Enter a number: 2\n",
      "Enter a number: 4\n",
      "Enter a number: 3\n",
      "Enter a number: 1\n",
      "Enter a number: 0\n",
      "[0, 1, 2, 3, 4]\n"
     ]
    }
   ],
   "source": [
    "numlist=[]\n",
    "num=int(input('Enter number of numbers to be entered'))\n",
    "for _ in range(num):\n",
    "    numlist.append(int(input('Enter a number: ')))\n",
    "for ind in range(1,num):\n",
    "    key=numlist[ind]\n",
    "    i=ind-1\n",
    "    while(i>=0 and numlist[i]>key):\n",
    "        numlist[i+1]=numlist[i]\n",
    "        i-=1\n",
    "    numlist[i+1]=key\n",
    "print(numlist)"
   ]
  },
  {
   "cell_type": "code",
   "execution_count": null,
   "metadata": {},
   "outputs": [],
   "source": [
    "Insertion Sort(Non Increasing order)"
   ]
  },
  {
   "cell_type": "code",
   "execution_count": 4,
   "metadata": {},
   "outputs": [
    {
     "name": "stdout",
     "output_type": "stream",
     "text": [
      "Enter number of numbers to be entered5\n",
      "Enter a number: 2\n",
      "Enter a number: 4\n",
      "Enter a number: 3\n",
      "Enter a number: 1\n",
      "Enter a number: 0\n",
      "[4, 3, 2, 1, 0]\n"
     ]
    }
   ],
   "source": [
    "numlist=[]\n",
    "num=int(input('Enter number of numbers to be entered'))\n",
    "for _ in range(num):\n",
    "    numlist.append(int(input('Enter a number: ')))\n",
    "for ind in range(1,num):\n",
    "    key=numlist[ind]\n",
    "    i=ind-1\n",
    "    while(i>=0 and numlist[i]<key):\n",
    "        numlist[i+1]=numlist[i]\n",
    "        i-=1\n",
    "    numlist[i+1]=key\n",
    "print(numlist)"
   ]
  },
  {
   "cell_type": "code",
   "execution_count": null,
   "metadata": {},
   "outputs": [],
   "source": [
    "Insertion Sort(Recursive Non Decreasing)"
   ]
  },
  {
   "cell_type": "code",
   "execution_count": 8,
   "metadata": {},
   "outputs": [
    {
     "name": "stdout",
     "output_type": "stream",
     "text": [
      "Enter number of numbers to be entered5\n",
      "Enter a number: 2\n",
      "Enter a number: 4\n",
      "Enter a number: 3\n",
      "Enter a number: 1\n",
      "Enter a number: 0\n",
      "[0, 1, 2, 3, 4]\n"
     ]
    }
   ],
   "source": [
    "def InsertionSort(numlist,ind):\n",
    "    if(ind<=0):\n",
    "        return\n",
    "    InsertionSort(numlist,ind-1)\n",
    "    Insert(numlist,ind)\n",
    "    \n",
    "def Insert(numlist,ind):\n",
    "    key=numlist[ind]\n",
    "    j=ind-1\n",
    "    while(j>=0 and numlist[j]>key):\n",
    "        numlist[j+1]=numlist[j]\n",
    "        j-=1\n",
    "    numlist[j+1]=key\n",
    "\n",
    "numlist=[]\n",
    "num=int(input('Enter number of numbers to be entered'))\n",
    "for _ in range(num):\n",
    "    numlist.append(int(input('Enter a number: ')))\n",
    "InsertionSort(numlist,len(numlist)-1)\n",
    "print(numlist)"
   ]
  },
  {
   "cell_type": "code",
   "execution_count": null,
   "metadata": {},
   "outputs": [],
   "source": [
    "Insertion Sort(using Binary Search instead of Linear Search Non Decreasing)"
   ]
  },
  {
   "cell_type": "code",
   "execution_count": 8,
   "metadata": {},
   "outputs": [
    {
     "name": "stdout",
     "output_type": "stream",
     "text": [
      "Enter number of numbers to be entered5\n",
      "Enter a number: 12\n",
      "Enter a number: 13\n",
      "Enter a number: 11\n",
      "Enter a number: 5\n",
      "Enter a number: 6\n",
      "[12, 13, 11, 5, 6]\n",
      "[11, 12, 13, 5, 6]\n",
      "[5, 11, 12, 13, 6]\n",
      "[5, 6, 11, 12, 13]\n"
     ]
    }
   ],
   "source": [
    "def BinarySearch(numlist,finInd,key,iniInd=0):\n",
    "    while(finInd>=iniInd):\n",
    "        if(numlist[int((iniInd+finInd)/2)]<key):\n",
    "            iniInd=int((iniInd+finInd)/2)+1\n",
    "        else:\n",
    "            finInd=int((iniInd+finInd)/2)-1\n",
    "    return(iniInd)\n",
    "    \n",
    "numlist=[]\n",
    "num=int(input('Enter number of numbers to be entered'))\n",
    "for _ in range(num):\n",
    "    numlist.append(int(input('Enter a number: ')))\n",
    "for ind in range(1,num):\n",
    "    key=numlist[ind]\n",
    "    k=BinarySearch(numlist,ind-1,key)\n",
    "    i=0\n",
    "    for i in range(ind,k,-1):\n",
    "        numlist[i]=numlist[i-1]\n",
    "    numlist[k]=key\n",
    "    print(numlist)\n"
   ]
  }
 ],
 "metadata": {
  "kernelspec": {
   "display_name": "Python 3",
   "language": "python",
   "name": "python3"
  },
  "language_info": {
   "codemirror_mode": {
    "name": "ipython",
    "version": 3
   },
   "file_extension": ".py",
   "mimetype": "text/x-python",
   "name": "python",
   "nbconvert_exporter": "python",
   "pygments_lexer": "ipython3",
   "version": "3.7.4"
  }
 },
 "nbformat": 4,
 "nbformat_minor": 2
}
