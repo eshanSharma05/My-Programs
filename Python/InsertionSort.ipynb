{
 "cells": [
  {
   "cell_type": "code",
   "execution_count": null,
   "metadata": {},
   "outputs": [],
   "source": [
    "Insertion Sort(Non Decreasing order)"
   ]
  },
  {
   "cell_type": "code",
   "execution_count": 3,
   "metadata": {},
   "outputs": [
    {
     "name": "stdout",
     "output_type": "stream",
     "text": [
      "Enter number of numbers to be entered5\n",
      "Enter a number: 2\n",
      "Enter a number: 4\n",
      "Enter a number: 3\n",
      "Enter a number: 1\n",
      "Enter a number: 0\n",
      "[0, 1, 2, 3, 4]\n"
     ]
    }
   ],
   "source": [
    "numlist=[]\n",
    "num=int(input('Enter number of numbers to be entered'))\n",
    "for _ in range(num):\n",
    "    numlist.append(int(input('Enter a number: ')))\n",
    "for ind in range(1,num):\n",
    "    key=numlist[ind]\n",
    "    i=ind-1\n",
    "    while(i>=0 and numlist[i]>key):\n",
    "        numlist[i+1]=numlist[i]\n",
    "        i-=1\n",
    "    numlist[i+1]=key\n",
    "print(numlist)"
   ]
  },
  {
   "cell_type": "code",
   "execution_count": null,
   "metadata": {},
   "outputs": [],
   "source": [
    "Insertion Sort(Non Increasing order)"
   ]
  },
  {
   "cell_type": "code",
   "execution_count": 4,
   "metadata": {},
   "outputs": [
    {
     "name": "stdout",
     "output_type": "stream",
     "text": [
      "Enter number of numbers to be entered5\n",
      "Enter a number: 2\n",
      "Enter a number: 4\n",
      "Enter a number: 3\n",
      "Enter a number: 1\n",
      "Enter a number: 0\n",
      "[4, 3, 2, 1, 0]\n"
     ]
    }
   ],
   "source": [
    "numlist=[]\n",
    "num=int(input('Enter number of numbers to be entered'))\n",
    "for _ in range(num):\n",
    "    numlist.append(int(input('Enter a number: ')))\n",
    "for ind in range(1,num):\n",
    "    key=numlist[ind]\n",
    "    i=ind-1\n",
    "    while(i>=0 and numlist[i]<key):\n",
    "        numlist[i+1]=numlist[i]\n",
    "        i-=1\n",
    "    numlist[i+1]=key\n",
    "print(numlist)"
   ]
  },
  {
   "cell_type": "code",
   "execution_count": null,
   "metadata": {},
   "outputs": [],
   "source": []
  }
 ],
 "metadata": {
  "kernelspec": {
   "display_name": "Python 3",
   "language": "python",
   "name": "python3"
  },
  "language_info": {
   "codemirror_mode": {
    "name": "ipython",
    "version": 3
   },
   "file_extension": ".py",
   "mimetype": "text/x-python",
   "name": "python",
   "nbconvert_exporter": "python",
   "pygments_lexer": "ipython3",
   "version": "3.7.4"
  }
 },
 "nbformat": 4,
 "nbformat_minor": 2
}
