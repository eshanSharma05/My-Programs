{
 "cells": [
  {
   "cell_type": "code",
   "execution_count": null,
   "metadata": {},
   "outputs": [],
   "source": [
    "Linear Search"
   ]
  },
  {
   "cell_type": "code",
   "execution_count": 2,
   "metadata": {},
   "outputs": [
    {
     "name": "stdout",
     "output_type": "stream",
     "text": [
      "Enter number of numbers to be entered5\n",
      "Enter a number: 2\n",
      "Enter a number: 4\n",
      "Enter a number: 3\n",
      "Enter a number: 1\n",
      "Enter a number: 0\n",
      "Enter the  number to be searched: 3\n",
      "3 found at index 2\n"
     ]
    }
   ],
   "source": [
    "numlist=[]\n",
    "num=int(input('Enter number of numbers to be entered'))\n",
    "for _ in range(num):\n",
    "    numlist.append(int(input('Enter a number: ')))\n",
    "key=int(input('Enter the  number to be searched: '))\n",
    "count=0\n",
    "for ind in numlist:\n",
    "    if(key==ind):\n",
    "        print(f'{key} found at index {numlist.index(key)}')\n",
    "        count=1\n",
    "        break\n",
    "if(count==0):\n",
    "    print(f'{key} not found')"
   ]
  }
 ],
 "metadata": {
  "kernelspec": {
   "display_name": "Python 3",
   "language": "python",
   "name": "python3"
  },
  "language_info": {
   "codemirror_mode": {
    "name": "ipython",
    "version": 3
   },
   "file_extension": ".py",
   "mimetype": "text/x-python",
   "name": "python",
   "nbconvert_exporter": "python",
   "pygments_lexer": "ipython3",
   "version": "3.7.4"
  }
 },
 "nbformat": 4,
 "nbformat_minor": 2
}
